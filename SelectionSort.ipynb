{
 "cells": [
  {
   "cell_type": "code",
   "execution_count": 1,
   "id": "individual-major",
   "metadata": {},
   "outputs": [],
   "source": [
    "def SelectionSort(arr):\n",
    "    for j in range(len(arr)):\n",
    "        min_val = j\n",
    "        for z in range(j+1, len(arr)):\n",
    "            if(arr[min_val] > arr[z]):\n",
    "                min_val = z\n",
    "        arr[j], arr[min_val] = arr[min_val], arr[j]\n",
    "    print(arr)"
   ]
  },
  {
   "cell_type": "code",
   "execution_count": 9,
   "id": "otherwise-cincinnati",
   "metadata": {},
   "outputs": [],
   "source": [
    "db = [10, 50, 70, 40, 80, 30, 90, 60, 20]"
   ]
  },
  {
   "cell_type": "code",
   "execution_count": 10,
   "id": "sized-kazakhstan",
   "metadata": {},
   "outputs": [
    {
     "data": {
      "text/plain": [
       "[0, 1, 2, 3, 4, 5, 6, 7, 8]"
      ]
     },
     "execution_count": 10,
     "metadata": {},
     "output_type": "execute_result"
    }
   ],
   "source": [
    "list(range(len(db)))"
   ]
  },
  {
   "cell_type": "code",
   "execution_count": 11,
   "id": "controlled-agreement",
   "metadata": {},
   "outputs": [
    {
     "name": "stdout",
     "output_type": "stream",
     "text": [
      "[10, 20, 30, 40, 50, 60, 70, 80, 90]\n"
     ]
    }
   ],
   "source": [
    "SelectionSort(db)"
   ]
  },
  {
   "cell_type": "code",
   "execution_count": null,
   "id": "documented-clinton",
   "metadata": {},
   "outputs": [],
   "source": []
  }
 ],
 "metadata": {
  "kernelspec": {
   "display_name": "Python 3",
   "language": "python",
   "name": "python3"
  },
  "language_info": {
   "codemirror_mode": {
    "name": "ipython",
    "version": 3
   },
   "file_extension": ".py",
   "mimetype": "text/x-python",
   "name": "python",
   "nbconvert_exporter": "python",
   "pygments_lexer": "ipython3",
   "version": "3.8.5"
  }
 },
 "nbformat": 4,
 "nbformat_minor": 5
}
